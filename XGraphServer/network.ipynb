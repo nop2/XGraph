{
 "cells": [
  {
   "cell_type": "code",
   "execution_count": 1,
   "metadata": {
    "collapsed": true,
    "pycharm": {
     "name": "#%%\n"
    }
   },
   "outputs": [],
   "source": [
    "import math\n",
    "import random\n",
    "import igraph as ig\n",
    "import pandas as pd\n",
    "import numpy as np\n",
    "import json\n",
    "from typing import List\n",
    "import os"
   ]
  },
  {
   "cell_type": "code",
   "execution_count": 2,
   "outputs": [],
   "source": [
    "class ColorUtil:\n",
    "    def __init__(self):\n",
    "        self.colors = ['#70f3ff', '#44cef6', '#3eede7', '#1685a9', '#177cb0', '#065279', '#003472', '#4b5cc4',\n",
    "                       '#a1afc9', '#2e4e7e',\n",
    "                       '#3b2e7e', '#4a4266', '#426666', '#425066', '#574266', '#8d4bbb', '#815463', '#815476',\n",
    "                       '#4c221b', '#003371',\n",
    "                       '#56004f', '#801dae', '#4c8dae', '#b0a4e3', '#cca4e3', '#edd1d8', '#e4c6d0', '#ff461f',\n",
    "                       '#ff2d51', '#f36838',\n",
    "                       '#ed5736', '#ff4777', '#f00056', '#ffb3a7', '#f47983', '#db5a6b', '#c93756', '#f9906f',\n",
    "                       '#f05654', '#ff2121',\n",
    "                       '#f20c00', '#8c4356', '#c83c23', '#9d2933', '#ff4c00', '#ff4e20', '#f35336', '#dc3023',\n",
    "                       '#ff3300', '#cb3a56',\n",
    "                       '#a98175', '#b36d61', '#ef7a82', '#ff0097', '#c32136', '#be002f', '#c91f37', '#bf242a',\n",
    "                       '#c3272b', '#9d2933',\n",
    "                       '#60281e', '#622a1d', '#bce672', '#c9dd22', '#bddd22', '#afdd22', '#a3d900', '#9ed900',\n",
    "                       '#9ed048', '#96ce54',\n",
    "                       '#00bc12', '#0eb83a', '#0eb83a', '#0aa344', '#16a951', '#21a675', '#057748', '#0c8918',\n",
    "                       '#00e500', '#40de5a',\n",
    "                       '#00e079', '#00e09e', '#3de1ad', '#2add9c', '#2edfa3', '#7fecad', '#a4e2c6', '#7bcfa6',\n",
    "                       '#1bd1a5', '#48c0a3',\n",
    "                       '#549688', '#789262', '#758a99', '#50616d', '#424c50', '#41555d', '#eaff56', '#fff143',\n",
    "                       '#faff72', '#ffa631',\n",
    "                       '#ffa400', '#fa8c35', '#ff8c31', '#ff8936', '#ff7500', '#ffb61e', '#ffc773', '#ffc64b',\n",
    "                       '#f2be45', '#f0c239',\n",
    "                       '#e9bb1d', '#d9b611', '#eacd76', '#eedeb0', '#d3b17d', '#e29c45', '#a78e44', '#c89b40',\n",
    "                       '#ae7000', '#ca6924',\n",
    "                       '#b25d25', '#b35c44', '#9b4400', '#9c5333', '#a88462', '#896c39', '#827100', '#6e511e',\n",
    "                       '#7c4b00', '#955539',\n",
    "                       '#845a33', '#ffffff', '#e9e7ef', '#f0f0f4', '#e9f1f6', '#f0fcff', '#e3f9fd', '#d6ecf0',\n",
    "                       '#fffbf0', '#f2ecde',\n",
    "                       '#fcefe8', '#fff2df', '#f3f9f1', '#e0eee8', '#e0f0e9', '#c0ebd7', '#bbcdc5', '#c2ccd0',\n",
    "                       '#bacac6', '#808080',\n",
    "                       '#75878a', '#88ada6', '#6b6882', '#725e82', '#3d3b4f', '#392f41', '#75664d', '#5d513c',\n",
    "                       '#665757', '#493131',\n",
    "                       '#312520', '#161823']\n",
    "\n",
    "    def value_map(self, nums, target_min, target_max) -> list:\n",
    "        '''\n",
    "        将数值映射到另一个区间\n",
    "        :param nums:\n",
    "        :param target_min:\n",
    "        :param target_max:\n",
    "        :return:\n",
    "        '''\n",
    "        x = nums\n",
    "        if type(nums) is not np.ndarray:\n",
    "            x = np.array(nums)\n",
    "        s_min = np.min(x)\n",
    "        s_max = np.max(x)\n",
    "        return list(target_min + (target_max - target_min) / (s_max - s_min) * (x - s_min))\n",
    "\n",
    "    def value2color(self, nums, color_num) -> list:\n",
    "        '''\n",
    "        连续值映射为颜色\n",
    "        :param nums: 值\n",
    "        :param color_num: 映射的颜色数\n",
    "        :return:\n",
    "        '''\n",
    "        x = self.value_map(nums, 1, color_num)\n",
    "        colors = random.sample(self.colors, color_num + 1)\n",
    "        return [colors[math.ceil(c)] for c in x]\n",
    "\n",
    "    def category2color(self, category) -> list:\n",
    "        '''\n",
    "        离散值转颜色\n",
    "        :param category: 离散数据\n",
    "        :return:\n",
    "        '''\n",
    "        u_c = list(set(category))\n",
    "        random.shuffle(self.colors)\n",
    "        color_dict = {}\n",
    "\n",
    "        i = 0\n",
    "        color_len = len(self.colors)\n",
    "        for c in u_c:\n",
    "            color_dict[c] = self.colors[i]\n",
    "            i += 1\n",
    "            if i >= color_len:\n",
    "                i = color_len - 1\n",
    "\n",
    "        return [color_dict[c] for c in category]"
   ],
   "metadata": {
    "collapsed": false,
    "pycharm": {
     "name": "#%%\n"
    }
   }
  },
  {
   "cell_type": "markdown",
   "source": [
    "工具概览,先搞出一个功能简单/能用的版本,以后再加功能\n",
    "\n",
    "导入网络：\n",
    "    1. 点击导入数据\n",
    "    2. 弹出窗口,选择边/节点文件,然后点击导入有有向图/叠加网络的选项),图名字,默认文件名\n",
    "    3. 后端直接读数据,然后生成网络,向前端传输表格数据 ,数据列的名字)\n",
    "    4. 前端展开网络生成的详细选项,发送给后端\n",
    "    5. 后端把绘图数据和各种分析数据发送到前端\n",
    "    6. 前端根据数据画出图\n",
    "\n"
   ],
   "metadata": {
    "collapsed": false,
    "pycharm": {
     "name": "#%% md\n"
    }
   }
  },
  {
   "cell_type": "code",
   "execution_count": 3,
   "outputs": [],
   "source": [
    "class Data:\n",
    "    def __init__(self, node_data: pd.DataFrame, edge_data: pd.DataFrame, relation_data: pd.DataFrame = None):\n",
    "        self.node_data = node_data\n",
    "        self.edge_data = edge_data\n",
    "        self.relation_data = relation_data\n",
    "\n",
    "\n",
    "class Style:\n",
    "    def __init__(self, label: str, shape: str, size: int, color: str):\n",
    "        self.label = label\n",
    "        self.shape = shape\n",
    "        self.size = size\n",
    "        self.color = color\n",
    "\n",
    "\n",
    "class DisplayOption:\n",
    "    def __init__(self, graph_name: str, directed: bool, node_style: Style, edge_style: Style, layout: str = 'force'):\n",
    "        self.graph_name = graph_name\n",
    "        self.directed = directed\n",
    "        self.node_style = node_style\n",
    "        self.edge_style = edge_style\n",
    "        self.layout = layout\n",
    "\n",
    "\n",
    "class GraphData:\n",
    "    def __init__(self):\n",
    "        self.graph_name: str = None\n",
    "        self.graph_count: int = 0\n",
    "        self.display_options: List[DisplayOption] = []\n",
    "        self.data: List[Data] = []\n",
    "        self.graph: ig.Graph = None\n",
    "\n",
    "    def new_from_dataframe(self, graph_name: str, edges: pd.DataFrame, nodes: pd.DataFrame = None,\n",
    "                           directed: bool = False):\n",
    "        '''\n",
    "        :param graph_name:\n",
    "        :param edges:\n",
    "        :param nodes:\n",
    "        :param directed:\n",
    "        :return:\n",
    "        '''\n",
    "        self.__init__()\n",
    "\n",
    "        self.data.append(Data(node_data=nodes, edge_data=edges))\n",
    "\n",
    "        g = ig.Graph(directed=directed)\n",
    "\n",
    "        if nodes is not None:\n",
    "            # 原有id映射到新的id\n",
    "            id_map = {i: g.add_vertex(name=str(i)).index for i in nodes[nodes.columns[0]]}\n",
    "        else:\n",
    "            id_map = {i: g.add_vertex(name=str(i)).index for i in\n",
    "                      set(list(edges[edges.columns[0]] + edges[edges.columns[1]]))}\n",
    "\n",
    "        g.add_edges(list(zip(edges[edges.columns[0]], edges[edges.columns[1]])),\n",
    "                    attributes={'id': [0] * edges.shape[0]})\n",
    "\n",
    "        graph = {\n",
    "            'id': 0,  # 图id\n",
    "            'id_map': {},  # 原先id到overlay中id的映射\n",
    "            'node_data': None,\n",
    "            'edge_data': None,\n",
    "            'relation': None,\n",
    "            'graph': None\n",
    "        }\n",
    "\n",
    "        # overlay网络属性\n",
    "        # id(新的id，数字)    name(原先的id)    graph_id(所在的图的id)  节点\n",
    "        # source(源id)     target(目标id)    graph_id(所在的图id)  边\n",
    "\n",
    "    def overlay_from_dataframe(self, graph_name: str, edges: pd.DataFrame, nodes: pd.DataFrame = None,\n",
    "                               relation: pd.DataFrame = None,\n",
    "                               directed: bool = False):\n",
    "        '''\n",
    "        将网络叠加到现有网络中\n",
    "        :param graph_name:\n",
    "        :param edges:\n",
    "        :param nodes:\n",
    "        :param relation:\n",
    "        :param directed:\n",
    "        :return:\n",
    "        '''\n",
    "\n",
    "        self.graph_name += f'_{graph_name}'\n",
    "        self.graph_count += 1\n",
    "\n",
    "\n",
    "\n"
   ],
   "metadata": {
    "collapsed": false,
    "pycharm": {
     "name": "#%%\n"
    }
   }
  },
  {
   "cell_type": "code",
   "execution_count": 4,
   "outputs": [],
   "source": [
    "class XGraph:\n",
    "    def __init__(self):\n",
    "        self.color_util = ColorUtil()  # 颜色工具\n",
    "\n",
    "        self.graph: ig.Graph = None  # 总图对象，复合复杂网络\n",
    "        self.sub_graph = {}  # 子图对象map,name->{graph,node_data,edge_data}\n",
    "        self.graph_info_cache = {}\n",
    "\n",
    "    def load(self, name='', file_type: str = '', overlay: bool = False, directed: bool = False, file_path: str = '',\n",
    "             node_table_path: str = '', edge_table_path: str = '', overlay_relation: str = '',\n",
    "             relation_directed: bool = False):\n",
    "        \"\"\"\n",
    "        导入数据，生成网络\n",
    "        注意：节点数据第一列必须为id，字符串类型，边文件第一列为source，第二列为target\n",
    "\n",
    "\n",
    "        :param name: 网络名，唯一\n",
    "        :param file_type: 文件类型：table表格，other其他\n",
    "        :param overlay:  是否叠加到当前网络\n",
    "        :param directed:  是否有向图\n",
    "        :param file_path:  file_type为other时有效\n",
    "        :param node_table_path: 节点表格，仅file_type=table使有效\n",
    "        :param edge_table_path:  边表格，仅file_type=table使有效\n",
    "        :param overlay_relation: 网络叠加时的网络关系表格，仅overlay=true时有效\n",
    "        :param relation_directed: 网络叠加时的网络关系表格是否有向边，仅overlay=true时有效\n",
    "        :return:return\n",
    "\n",
    "        # 前端网络数据导入接口\n",
    "        load_info = {\n",
    "            'name': '',  # 图的名字，需要唯一\n",
    "            'file_type': '',  # 加载的文件类型 'table'为表格\n",
    "            'overlay': '',  # 叠加到当前网络\n",
    "            'directed': '',\n",
    "            'file_path': '',  # type不为数据表格时有效\n",
    "            'node_table_path': '',  # 节点表格的文件路径\n",
    "            'edge_table_path': '',  # 边表格的文件路径\n",
    "            'overlay_relation': '',  # overLay为true时有效\n",
    "            'relation_directed': ''\n",
    "        }\n",
    "\n",
    "        # 加载表格数据，默认第一列是id，字符串类型，如果要叠加网络则必须保证每个文件的id都互不相同\n",
    "        # 边表前两列必须为为source和target\n",
    "\n",
    "        \"\"\"\n",
    "        if overlay and len(self.sub_graph) == 0:\n",
    "            raise Exception(\"未导入网络，无法进行叠加\")\n",
    "\n",
    "        if name in self.sub_graph.keys():\n",
    "            raise Exception('重复的网络名称')\n",
    "\n",
    "        g: ig.Graph = None\n",
    "        node_data: pd.DataFrame = None\n",
    "        edge_data: pd.DataFrame = None\n",
    "        relation_data: pd.DataFrame = None\n",
    "\n",
    "        if file_type == 'table':\n",
    "            if node_table_path != '' and os.path.exists(node_table_path):\n",
    "                node_data = self.read_table(node_table_path)\n",
    "\n",
    "            if os.path.exists(edge_table_path):\n",
    "                edge_data = self.read_table(edge_table_path)\n",
    "\n",
    "            if overlay and os.path.exists(overlay_relation):\n",
    "                relation_data = self.read_table(overlay_relation)\n",
    "\n",
    "            if node_data is None and edge_data is None:\n",
    "                raise '文件都为空'\n",
    "\n",
    "            if node_data is None:\n",
    "                # 只有边文件，先生成所有节点\n",
    "                node_data = pd.DataFrame()\n",
    "                node_data['__id__'] = list(\n",
    "                    set(edge_data[edge_data.columns[0]].astype(str)\n",
    "                        + edge_data[edge_data.columns[1]].astype(str)))\n",
    "\n",
    "            g = ig.Graph(directed=directed)\n",
    "            # 修改name名称，防止重名\n",
    "            node_data.columns = [f'_name' if col == 'name' else col for col in node_data.columns]\n",
    "\n",
    "            col_names = node_data.columns\n",
    "            node_id = node_data[col_names[0]].astype(str)\n",
    "            # 添加节点\n",
    "            for i, row in node_data.iterrows():\n",
    "                kw = {col: row[col] for col in col_names[1:]}  # 其他数据\n",
    "                g.add_vertex(name=node_id[i], **kw)\n",
    "                # 点网络叠加操作\n",
    "                if overlay and len(self.sub_graph) >= 1:\n",
    "                    kw['__graph_name__'] = name  # 再复合网络中标记网络名\n",
    "                    if self.graph is None:\n",
    "                        self.graph = ig.Graph(directed=directed)\n",
    "                    self.graph.add_vertex(name=node_id[i], **kw)\n",
    "\n",
    "            # 添加边\n",
    "            attributes = {col: edge_data[col] for col in edge_data.columns[2:]}\n",
    "            edges = zip(edge_data[edge_data.columns[0]].astype(str), edge_data[edge_data.columns[1]].astype(str))\n",
    "            g.add_edges(edges, attributes=attributes)\n",
    "\n",
    "            # 边网络叠加操作\n",
    "            if overlay and len(self.sub_graph) >= 1:\n",
    "                # TODO:有向图和无向图混合操作，先不处理，尽量保证同一类型\n",
    "                # if directed:\n",
    "                #     pass\n",
    "\n",
    "                # 向复合网络对象添加边\n",
    "                # 这里变量需要重新算，不然无法添加边\n",
    "                attributes = {col: edge_data[col] for col in edge_data.columns[2:]}\n",
    "                attributes['__graph_name__'] = [name] * edge_data.shape[0]  # 记录边所在网络\n",
    "                edges = zip(edge_data[edge_data.columns[0]].astype(str), edge_data[edge_data.columns[1]].astype(str))\n",
    "                self.graph.add_edges(edges, attributes=attributes)\n",
    "\n",
    "                # 叠加网络关系边\n",
    "                if relation_data is not None:\n",
    "                    attributes = {col: relation_data[col] for col in relation_data.columns[2:]}\n",
    "                    attributes['__graph_name__'] = ['__none__'] * relation_data.shape[0]\n",
    "                    edges = zip(relation_data[relation_data.columns[0]].astype(str),\n",
    "                                relation_data[relation_data.columns[1]].astype(str))\n",
    "                    self.graph.add_edges(edges, attributes=attributes)\n",
    "\n",
    "                self.sub_graph[name] = {\n",
    "                    'graph': g,\n",
    "                    'node_data': node_data,\n",
    "                    'edge_data': edge_data\n",
    "                }\n",
    "\n",
    "            if not overlay:\n",
    "                # 非网络叠加操作，清理数据\n",
    "                self.graph: ig.Graph = g.copy()\n",
    "                self.graph.vs.set_attribute_values(attrname='__graph_name__', values=[name] * self.graph.vcount())\n",
    "                self.graph.es.set_attribute_values(attrname='__graph_name__', values=[name] * self.graph.ecount())\n",
    "                self.sub_graph = {name: {\n",
    "                    'graph': g,\n",
    "                    'node_data': node_data,\n",
    "                    'edge_data': edge_data,\n",
    "                    'option': None\n",
    "                }}\n",
    "\n",
    "    def get_data_table(self, name='') -> dict:\n",
    "        '''\n",
    "        获取网络对应的表格数据\n",
    "        :param name: 网络名\n",
    "        :return: json格式数据\n",
    "\n",
    "        # data = {\n",
    "        #     'columns': [{\n",
    "        #         'title': 'a',\n",
    "        #         'dataIndex': 'a'\n",
    "        #     }, ],\n",
    "        #     'data': [\n",
    "        #         {\n",
    "        #             'key': '1',\n",
    "        #             'a': 44,\n",
    "        #         }\n",
    "        #     ],\n",
    "        # }\n",
    "        '''\n",
    "        if name not in self.sub_graph.keys():\n",
    "            raise '网络不存在'\n",
    "\n",
    "        nodes: pd.DataFrame = self.sub_graph[name]['node_data']\n",
    "        edges: pd.DataFrame = self.sub_graph[name]['edge_data']\n",
    "\n",
    "        return {\n",
    "            'nodes': self.__get_json_form_df(nodes),\n",
    "            'edges': self.__get_json_form_df(edges)\n",
    "        }\n",
    "\n",
    "    def __get_json_form_df(self, df: pd.DataFrame) -> dict:\n",
    "        data = {\n",
    "            'columns': [{'title': col, 'dataIndex': col} for col in df.columns],\n",
    "            'data': []\n",
    "        }\n",
    "        for i, row in df.iterrows():\n",
    "            item = {\n",
    "                'key': str(i)\n",
    "            }\n",
    "            for col in df.columns:\n",
    "                item[col] = row[col]\n",
    "            data['data'].append(item)\n",
    "        return data\n",
    "\n",
    "    def get_graph_info(self, name='') -> dict:\n",
    "        '''\n",
    "        获取网络基本属性值\n",
    "        :param name: 网络名，如果为空则选定\n",
    "        :return:\n",
    "\n",
    "        '''\n",
    "\n",
    "        g = self.graph\n",
    "        if name != '':\n",
    "            g = self.sub_graph[name]['graph']\n",
    "\n",
    "        data = {\n",
    "            'directed': g.is_directed(),\n",
    "            'connected': g.is_connected(),\n",
    "            'nodeCount': g.vcount(),\n",
    "            'edgeCount': g.ecount(),\n",
    "            'degree': g.degree(),\n",
    "            'maxDegree': g.maxdegree(),\n",
    "            'averageDegree': round(np.average(g.degree()), 4),\n",
    "            'diameter': g.diameter(),\n",
    "            'averagePathLen': round(g.average_path_length(), 4),\n",
    "            'globalClusteringCoefficient': round(g.transitivity_undirected(), 4),  # 全局聚集系数\n",
    "            'density': round(g.density(), 4),  # 网络密度\n",
    "\n",
    "            'betweenness': [-1 if np.isnan(v) else round(v, 6) for v in g.betweenness()],  # 介数\n",
    "            'closeness': [-1 if np.isnan(v) else round(v, 6) for v in g.closeness()],  # 紧密中心度\n",
    "            'pageRank': [-1 if np.isnan(v) else round(v, 6) for v in g.pagerank()],  # pagerank\n",
    "        }\n",
    "\n",
    "        self.graph_info_cache[name] = data\n",
    "        return data\n",
    "\n",
    "    def render_network(self, name='', vertex_size='_度_', vertex_color='_随机_', vertex_label='_默认_',\n",
    "                       vertex_shape='circle') -> dict:\n",
    "        '''\n",
    "        获取网络节点、边可视化数据\n",
    "        :param vertex_shape:\n",
    "        :param vertex_label:\n",
    "        :param vertex_color: \n",
    "        :param vertex_size:\n",
    "        :param name: 网络名\n",
    "        :return:\n",
    "        {\n",
    "            \"name\": \"\",\n",
    "            \"vertex_size\": \"_度_\",\n",
    "            \"vertex_color\": \"_随机_\",\n",
    "            \"vertex_label\": \"_默认_\",\n",
    "            \"vertex_shape\": \"circle\"\n",
    "        }\n",
    "        '''\n",
    "\n",
    "        if name == '_':  # 复合网络可视化\n",
    "            g = self.graph\n",
    "            # 要求已经可视化过所有子网\n",
    "            for sub_g in self.sub_graph:\n",
    "                if sub_g['option'] is None:\n",
    "                    raise Exception('需要先可视化所有子网络')\n",
    "\n",
    "            # 生成节点和边数据\n",
    "            nodes = []\n",
    "            edges = []\n",
    "\n",
    "            # 网络名，用于图例筛选\n",
    "            categories = []\n",
    "            graph_index_map = {}\n",
    "            i = 0\n",
    "            for n in self.sub_graph.keys():\n",
    "                categories.append({\n",
    "                    \"name\": n\n",
    "                })\n",
    "                graph_index_map[n] = i\n",
    "                i += 1\n",
    "\n",
    "            for v in g.vs:\n",
    "                # v: ig.Vertex\n",
    "                graph_name = v['__graph_name__']\n",
    "                option = self.sub_graph[graph_name]['option']\n",
    "                item = {\n",
    "                    \"id\": str(v.index),  # id 字符串\n",
    "                    \"name\": str(option['vertex_label'][v['name']]),  # label\n",
    "                    \"value\": '',  # 额外信息\n",
    "                    \"symbol\": option['vertex_shape'],  # 形状\n",
    "                    \"symbolSize\": option['vertex_size'][v['name']],  # 节点大小\n",
    "                    \"itemStyle\": {  # 节点颜色\n",
    "                        \"color\": option['vertex_color'][v['name']],\n",
    "                    },\n",
    "                    \"category\": graph_index_map[graph_name]\n",
    "                }\n",
    "                nodes.append(item)\n",
    "\n",
    "            for e in g.es:\n",
    "                # e: ig.Edge\n",
    "                item = {\n",
    "                    'source': str(e.source),\n",
    "                    'target': str(e.target),\n",
    "                }\n",
    "                if e['__graph_name__'] == 'none':  # 网络关系文件\n",
    "                    item['lineStyle'] = {\n",
    "                        \"color\": \"red\",\n",
    "                        \"width\": 4,\n",
    "                        \"type\": \"dashed\",\n",
    "                    }\n",
    "                edges.append(item)\n",
    "\n",
    "            return {\n",
    "                \"nodes\": nodes,\n",
    "                \"edges\": edges,\n",
    "                \"categories\": categories,\n",
    "                \"directed\": g.is_directed()\n",
    "            }\n",
    "\n",
    "        # 可视化子图\n",
    "\n",
    "        # 子图的图例，如果颜色为节点属性，则将图例设置为该属性\n",
    "        categories = [{\"name\": name}]\n",
    "        color_index_map = None  # 为None则不生效\n",
    "\n",
    "        if name != '':\n",
    "            g = self.sub_graph[name]['graph']\n",
    "\n",
    "        if name in self.graph_info_cache.keys():\n",
    "            info = self.graph_info_cache[name]\n",
    "        else:\n",
    "            info = self.get_graph_info()\n",
    "\n",
    "        # 计算节点样式\n",
    "\n",
    "        if vertex_size != '':\n",
    "            if vertex_size == '_默认_':\n",
    "                vertex_size = None\n",
    "            elif vertex_size == \"_度_\":\n",
    "                vertex_size = [int(20 + d * 5) for d in self.color_util.value_map(info['degree'], 1, 10)]\n",
    "            elif vertex_size == \"_介数_\":\n",
    "                vertex_size = [int(20 + d * 5) for d in self.color_util.value_map(info['betweenness'], 1, 10)]\n",
    "            elif vertex_size == \"_紧密中心性_\":\n",
    "                vertex_size = [int(20 + d * 5) for d in self.color_util.value_map(info['closeness'], 1, 10)]\n",
    "            else:\n",
    "                if vertex_size in g.vs.attribute_names():\n",
    "\n",
    "                    try:\n",
    "                        x = np.array(g.vs.get_attribute_values(vertex_size))\n",
    "                        vertex_size = [int(30 + d * 40) for d in self.color_util.value_map(x, 1, 10)]\n",
    "                    except Exception as e:\n",
    "                        vertex_size = None\n",
    "        else:\n",
    "            vertex_size = [10] * info['nodeCount']\n",
    "\n",
    "        if vertex_color != '':\n",
    "            if vertex_color.startswith('#'):\n",
    "                # vertex_color = [f\"#{vertex_color.split('#')[-1]}\"] * self.vertex_count\n",
    "                # vertex_color = [random.choice(self.colors)] * self.vertex_count\n",
    "                vertex_color = [vertex_color] * info['nodeCount']\n",
    "            elif vertex_color == \"_随机_\":\n",
    "                colors = random.sample(self.color_util.colors, 20)\n",
    "                vertex_color = [random.choice(colors) for _ in range(info['nodeCount'])]\n",
    "            elif vertex_color == \"_度_\":\n",
    "                vertex_color = self.color_util.value2color(info['degree'], 10)\n",
    "            elif vertex_color == \"_介数_\":\n",
    "                vertex_color = self.color_util.value2color(info['betweenness'], 10)\n",
    "            elif vertex_color == \"_紧密中心性_\":\n",
    "                vertex_color = self.color_util.value2color(info['closeness'], 10)\n",
    "            else:\n",
    "                if vertex_color in self.g.vs.attribute_names():\n",
    "                    attr = g.vs.get_attribute_values(vertex_color)\n",
    "\n",
    "                    try:\n",
    "                        x = np.array(attr)\n",
    "                        vertex_color = self.color_util.value2color(x, 10)\n",
    "                    except Exception as e:\n",
    "                        vertex_color = self.color_util.category2color(attr)\n",
    "                        # 属性值为离散类型，此时可以更新图例，颜色映射到下标\n",
    "                        color_cat_map = {}\n",
    "                        for i in range(len(attr)):\n",
    "                            color_cat_map[vertex_color[i]] = attr[i]\n",
    "\n",
    "                        i = 0\n",
    "                        for k, v in color_cat_map.items():\n",
    "                            categories.append({\n",
    "                                \"name\": v,\n",
    "                                \"itemStyle\": {\n",
    "                                    \"color\": k\n",
    "                                }\n",
    "                            })\n",
    "                            color_index_map[k] = i\n",
    "                            i += 1\n",
    "\n",
    "\n",
    "\n",
    "        else:\n",
    "            vertex_color = [random.choice(self.color_util.colors)] * info['nodeCount']\n",
    "\n",
    "        if vertex_label == \"_默认_\":\n",
    "            if 'name' in g.vs.attribute_names():\n",
    "                vertex_label = [str(i) for i in g.vs.get_attribute_values('name')]\n",
    "            else:\n",
    "                vertex_label = [str(i) for i in range(info['nodeCount'])]\n",
    "        else:\n",
    "            if vertex_label in g.vs.attribute_names():\n",
    "                vertex_label = [str(i) for i in g.vs.get_attribute_values(vertex_label)]\n",
    "            else:\n",
    "                vertex_label = [str(i) for i in range(info['nodeCount'])]\n",
    "\n",
    "        # 生成节点和边数据\n",
    "        nodes = []\n",
    "        edges = []\n",
    "\n",
    "        nodes = [{\n",
    "            \"id\": str(v.index),  # id 字符串\n",
    "            \"name\": str(vertex_label[v.index]),  # label\n",
    "            \"value\": '',  # 额外信息\n",
    "            \"symbol\": vertex_shape,  # 形状\n",
    "            \"symbolSize\": vertex_size[v.index],  # 节点大小\n",
    "            \"itemStyle\": {  # 节点颜色\n",
    "                \"color\": vertex_color[v.index],\n",
    "            },\n",
    "            'category': 0 if color_index_map is None else color_index_map[vertex_color[v.index]]\n",
    "        } for v in g.vs]\n",
    "\n",
    "        for e in g.es:\n",
    "            # e: ig.Edge\n",
    "            item = {\n",
    "                'source': str(e.source),\n",
    "                'target': str(e.target),\n",
    "            }\n",
    "            if name == '' and e['__graph_name__'] == 'none':  # 网络关系文件\n",
    "                item['lineStyle'] = {\n",
    "                    \"color\": \"red\",\n",
    "                    \"width\": 3,\n",
    "                    \"type\": \"dashed\",\n",
    "                }\n",
    "            edges.append(item)\n",
    "\n",
    "        # for v in g.vs:\n",
    "        #     # v: ig.Vertex\n",
    "        #     item = {\n",
    "        #         \"id\": str(v.index),  # id 字符串\n",
    "        #         \"name\": str(vertex_label[v.index]),  # label\n",
    "        #         \"value\": '',  # 额外信息\n",
    "        #         \"symbol\": vertex_shape,  # 形状\n",
    "        #         \"symbolSize\": vertex_size[v.index],  # 节点大小\n",
    "        #         \"itemStyle\": {  # 节点颜色\n",
    "        #             \"color\": vertex_color[v.index],\n",
    "        #         }\n",
    "        #     }\n",
    "        #     nodes.append(item)\n",
    "\n",
    "        if name != '_':\n",
    "            # 更新option信息\n",
    "            self.sub_graph[name]['option'] = {\n",
    "                'vertex_size': {v['name']: vertex_size[v.index] for v in g.vs},\n",
    "                'vertex_shape': vertex_shape,\n",
    "                'vertex_label': {v['name']: vertex_label[v.index] for v in g.vs},\n",
    "                'vertex_color': {v['name']: vertex_color[v.index] for v in g.vs},\n",
    "            }\n",
    "\n",
    "        return {\n",
    "            \"nodes\": nodes,\n",
    "            \"edges\": edges,\n",
    "            \"categories\": categories,\n",
    "            \"directed\": g.is_directed()\n",
    "        }\n",
    "\n",
    "    @staticmethod\n",
    "    def read_table(file_path: str) -> pd.DataFrame:\n",
    "        '''\n",
    "        读取表格文件\n",
    "        :param file_path:\n",
    "        :return:\n",
    "        '''\n",
    "        data = None\n",
    "        try:\n",
    "            if file_path.endswith('.csv'):\n",
    "                data = pd.read_csv(file_path)\n",
    "            else:\n",
    "                data = pd.read_excel(file_path)\n",
    "        except:\n",
    "            raise\n",
    "\n",
    "        return data\n",
    "\n",
    "\n",
    "\n"
   ],
   "metadata": {
    "collapsed": false,
    "pycharm": {
     "name": "#%%\n"
    }
   }
  },
  {
   "cell_type": "code",
   "execution_count": 5,
   "outputs": [],
   "source": [
    "load_opt1 = {\n",
    "    \"name\": \"人物关系图\",  # 图的名字，需要唯一\n",
    "    \"file_type\": \"table\",  # 加载的文件类型 \"table\"为表格\n",
    "    \"overlay\": False,  # 叠加到当前网络\n",
    "    \"directed\": False,\n",
    "    \"file_path\": \"\",  # type不为数据表格时有效\n",
    "    \"node_table_path\": r\"F:\\Code\\Python\\毕业设计\\网络分析\\人_节点.csv\",  # 节点表格的文件路径\n",
    "    \"edge_table_path\": r\"F:\\Code\\Python\\毕业设计\\网络分析\\人_边.csv\",  # 边表格的文件路径\n",
    "    \"overlay_relation\": \"\",  # overLay为true时有效\n",
    "}\n",
    "load_opt2 = {\n",
    "    \"name\": \"电影关系图\",  # 图的名字，需要唯一\n",
    "    \"file_type\": \"table\",  # 加载的文件类型 \"table\"为表格\n",
    "    \"overlay\": True,  # 叠加到当前网络\n",
    "    \"directed\": False,\n",
    "    \"file_path\": \"\",  # type不为数据表格时有效\n",
    "    \"node_table_path\": r\"F:\\Code\\Python\\毕业设计\\网络分析\\电影_节点.csv\",  # 节点表格的文件路径\n",
    "    \"edge_table_path\": r\"F:\\Code\\Python\\毕业设计\\网络分析\\电影_边.csv\",  # 边表格的文件路径\n",
    "    \"overlay_relation\": r\"F:\\Code\\Python\\毕业设计\\网络分析\\关系_边.csv\",  # overLay为true时有效\n",
    "    \"relation_directed\": False\n",
    "}"
   ],
   "metadata": {
    "collapsed": false,
    "pycharm": {
     "name": "#%%\n"
    }
   }
  },
  {
   "cell_type": "code",
   "execution_count": 6,
   "outputs": [],
   "source": [
    "a = {\n",
    "    \"name\": \"人物关系图\",\n",
    "    \"file_type\": \"table\",\n",
    "    \"overlay\": False,\n",
    "    \"directed\": False,\n",
    "    \"file_path\": \"\",\n",
    "    \"node_table_path\": \"F:/Code/Python/毕业设计/网络分析/人_节点.csv\",\n",
    "    \"edge_table_path\": \"F:/Code/Python/毕业设计/网络分析/人_边.csv\",\n",
    "    \"overlay_relation\": \"\",\n",
    "}\n",
    "b = {\n",
    "    \"name\": \"电影关系图\",\n",
    "    \"file_type\": \"table\",\n",
    "    \"overlay\": True,\n",
    "    \"directed\": False,\n",
    "    \"file_path\": \"\",\n",
    "    \"node_table_path\": \"F:/Code/Python/毕业设计/网络分析/电影_节点.csv\",\n",
    "    \"edge_table_path\": \"F:/Code/Python/毕业设计/网络分析/电影_边.csv\",\n",
    "    \"overlay_relation\": \"F:/Code/Python/毕业设计/网络分析/关系_边.csv\",\n",
    "    \"relation_directed\": False\n",
    "}"
   ],
   "metadata": {
    "collapsed": false,
    "pycharm": {
     "name": "#%%\n"
    }
   }
  },
  {
   "cell_type": "code",
   "execution_count": 7,
   "outputs": [],
   "source": [
    "gg = XGraph()\n",
    "gg.load(**load_opt1)\n",
    "gg.load(**load_opt2)"
   ],
   "metadata": {
    "collapsed": false,
    "pycharm": {
     "name": "#%%\n"
    }
   }
  },
  {
   "cell_type": "code",
   "execution_count": 13,
   "outputs": [
    {
     "data": {
      "text/plain": "         source  target  weight __graph_name__\nedge ID                                       \n0             1      32     5.0          人物关系图\n1             2      37    18.0          人物关系图\n2             2      67     6.0          人物关系图\n3             3      52     5.0          人物关系图\n4             4      60     5.0          人物关系图\n...         ...     ...     ...            ...\n110          42     104     1.0       __none__\n111          28     108     3.0       __none__\n112          58     105     3.0       __none__\n113          38     111     2.0       __none__\n114          28     100     1.0       __none__\n\n[115 rows x 4 columns]",
      "text/html": "<div>\n<style scoped>\n    .dataframe tbody tr th:only-of-type {\n        vertical-align: middle;\n    }\n\n    .dataframe tbody tr th {\n        vertical-align: top;\n    }\n\n    .dataframe thead th {\n        text-align: right;\n    }\n</style>\n<table border=\"1\" class=\"dataframe\">\n  <thead>\n    <tr style=\"text-align: right;\">\n      <th></th>\n      <th>source</th>\n      <th>target</th>\n      <th>weight</th>\n      <th>__graph_name__</th>\n    </tr>\n    <tr>\n      <th>edge ID</th>\n      <th></th>\n      <th></th>\n      <th></th>\n      <th></th>\n    </tr>\n  </thead>\n  <tbody>\n    <tr>\n      <th>0</th>\n      <td>1</td>\n      <td>32</td>\n      <td>5.0</td>\n      <td>人物关系图</td>\n    </tr>\n    <tr>\n      <th>1</th>\n      <td>2</td>\n      <td>37</td>\n      <td>18.0</td>\n      <td>人物关系图</td>\n    </tr>\n    <tr>\n      <th>2</th>\n      <td>2</td>\n      <td>67</td>\n      <td>6.0</td>\n      <td>人物关系图</td>\n    </tr>\n    <tr>\n      <th>3</th>\n      <td>3</td>\n      <td>52</td>\n      <td>5.0</td>\n      <td>人物关系图</td>\n    </tr>\n    <tr>\n      <th>4</th>\n      <td>4</td>\n      <td>60</td>\n      <td>5.0</td>\n      <td>人物关系图</td>\n    </tr>\n    <tr>\n      <th>...</th>\n      <td>...</td>\n      <td>...</td>\n      <td>...</td>\n      <td>...</td>\n    </tr>\n    <tr>\n      <th>110</th>\n      <td>42</td>\n      <td>104</td>\n      <td>1.0</td>\n      <td>__none__</td>\n    </tr>\n    <tr>\n      <th>111</th>\n      <td>28</td>\n      <td>108</td>\n      <td>3.0</td>\n      <td>__none__</td>\n    </tr>\n    <tr>\n      <th>112</th>\n      <td>58</td>\n      <td>105</td>\n      <td>3.0</td>\n      <td>__none__</td>\n    </tr>\n    <tr>\n      <th>113</th>\n      <td>38</td>\n      <td>111</td>\n      <td>2.0</td>\n      <td>__none__</td>\n    </tr>\n    <tr>\n      <th>114</th>\n      <td>28</td>\n      <td>100</td>\n      <td>1.0</td>\n      <td>__none__</td>\n    </tr>\n  </tbody>\n</table>\n<p>115 rows × 4 columns</p>\n</div>"
     },
     "execution_count": 13,
     "metadata": {},
     "output_type": "execute_result"
    }
   ],
   "source": [
    "gg.graph.get_edge_dataframe()"
   ],
   "metadata": {
    "collapsed": false,
    "pycharm": {
     "name": "#%%\n"
    }
   }
  },
  {
   "cell_type": "code",
   "execution_count": 8,
   "outputs": [
    {
     "data": {
      "text/plain": "{'nodes': {'columns': [{'title': 'MOVIE_ID', 'dataIndex': 'MOVIE_ID'},\n   {'title': 'NAME', 'dataIndex': 'NAME'},\n   {'title': 'ALIAS', 'dataIndex': 'ALIAS'},\n   {'title': 'ACTORS', 'dataIndex': 'ACTORS'},\n   {'title': 'COVER', 'dataIndex': 'COVER'},\n   {'title': 'DIRECTORS', 'dataIndex': 'DIRECTORS'}],\n  'data': [{'key': '0',\n    'MOVIE_ID': 26670818,\n    'NAME': '情定河州',\n    'ALIAS': '情定临夏天使然',\n    'ACTORS': '王博/吴佳尼/王姬/高丽雯/郭力行/尹哲/沈丹萍/罗中旭/臧金生/罗刚/居文沛/阎青妤',\n    'COVER': nan,\n    'DIRECTORS': '尹哲'},\n   {'key': '1',\n    'MOVIE_ID': 25815002,\n    'NAME': '我不是李小龙',\n    'ALIAS': nan,\n    'ACTORS': '谷尚蔚/吴孟达/曾志伟/杜海涛',\n    'COVER': nan,\n    'DIRECTORS': '洪金宝'},\n   {'key': '2',\n    'MOVIE_ID': 26392287,\n    'NAME': '曼哈顿中国女孩',\n    'ALIAS': nan,\n    'ACTORS': nan,\n    'COVER': nan,\n    'DIRECTORS': nan},\n   {'key': '3',\n    'MOVIE_ID': 26695995,\n    'NAME': '绿毛水怪',\n    'ALIAS': nan,\n    'ACTORS': nan,\n    'COVER': nan,\n    'DIRECTORS': '梁栋/吴国墉'},\n   {'key': '4',\n    'MOVIE_ID': 26392292,\n    'NAME': '为了祖国',\n    'ALIAS': nan,\n    'ACTORS': nan,\n    'COVER': nan,\n    'DIRECTORS': nan},\n   {'key': '5',\n    'MOVIE_ID': 6389523,\n    'NAME': '天地无用',\n    'ALIAS': nan,\n    'ACTORS': '禅婵/梁宸/张凡夕 François Chang',\n    'COVER': nan,\n    'DIRECTORS': '张凡夕'},\n   {'key': '6',\n    'MOVIE_ID': 26266621,\n    'NAME': '看不见的脸',\n    'ALIAS': '見えない貌',\n    'ACTORS': nan,\n    'COVER': nan,\n    'DIRECTORS': nan},\n   {'key': '7',\n    'MOVIE_ID': 26647079,\n    'NAME': '你无法抵达的时间',\n    'ALIAS': nan,\n    'ACTORS': nan,\n    'COVER': nan,\n    'DIRECTORS': nan},\n   {'key': '8',\n    'MOVIE_ID': 26277337,\n    'NAME': '黑夜之神',\n    'ALIAS': '包公：黑夜之神',\n    'ACTORS': nan,\n    'COVER': nan,\n    'DIRECTORS': nan},\n   {'key': '9',\n    'MOVIE_ID': 26378809,\n    'NAME': '传送点',\n    'ALIAS': nan,\n    'ACTORS': nan,\n    'COVER': nan,\n    'DIRECTORS': '辛成江'},\n   {'key': '10',\n    'MOVIE_ID': 26647075,\n    'NAME': '王二大爷的战争',\n    'ALIAS': nan,\n    'ACTORS': nan,\n    'COVER': nan,\n    'DIRECTORS': nan},\n   {'key': '11',\n    'MOVIE_ID': 27148159,\n    'NAME': '致命复活',\n    'ALIAS': nan,\n    'ACTORS': nan,\n    'COVER': nan,\n    'DIRECTORS': nan},\n   {'key': '12',\n    'MOVIE_ID': 26528269,\n    'NAME': '行星绿谷',\n    'ALIAS': nan,\n    'ACTORS': nan,\n    'COVER': nan,\n    'DIRECTORS': '韦炜华'},\n   {'key': '13',\n    'MOVIE_ID': 26268576,\n    'NAME': 'Alpha',\n    'ALIAS': nan,\n    'ACTORS': nan,\n    'COVER': nan,\n    'DIRECTORS': nan},\n   {'key': '14',\n    'MOVIE_ID': 26680414,\n    'NAME': '我和僵尸有个约会',\n    'ALIAS': nan,\n    'ACTORS': nan,\n    'COVER': nan,\n    'DIRECTORS': nan},\n   {'key': '15',\n    'MOVIE_ID': 3317352,\n    'NAME': 'It Is What It Is',\n    'ALIAS': nan,\n    'ACTORS': '奥莉薇·瑟尔比/西格妮·韦弗/埃文·蕾切尔·伍德',\n    'COVER': nan,\n    'DIRECTORS': '苏珊娜·福格尔'},\n   {'key': '16',\n    'MOVIE_ID': 26347315,\n    'NAME': '最寒冷的冬天是旧金山的夏季',\n    'ALIAS': nan,\n    'ACTORS': nan,\n    'COVER': nan,\n    'DIRECTORS': nan},\n   {'key': '17',\n    'MOVIE_ID': 26386532,\n    'NAME': '小情歌',\n    'ALIAS': nan,\n    'ACTORS': nan,\n    'COVER': nan,\n    'DIRECTORS': nan},\n   {'key': '18',\n    'MOVIE_ID': 26371294,\n    'NAME': '六重门',\n    'ALIAS': nan,\n    'ACTORS': nan,\n    'COVER': nan,\n    'DIRECTORS': nan},\n   {'key': '19',\n    'MOVIE_ID': 26754627,\n    'NAME': '山海经之小人国',\n    'ALIAS': nan,\n    'ACTORS': nan,\n    'COVER': nan,\n    'DIRECTORS': nan},\n   {'key': '20',\n    'MOVIE_ID': 11516763,\n    'NAME': '羊毛战记',\n    'ALIAS': nan,\n    'ACTORS': nan,\n    'COVER': nan,\n    'DIRECTORS': nan},\n   {'key': '21',\n    'MOVIE_ID': 27042445,\n    'NAME': '沙漠',\n    'ALIAS': nan,\n    'ACTORS': '吴敏/菅浩栋/董昕傧/牛森浩/毛腾飞/崔树强/陈小玲/段亚丽',\n    'COVER': nan,\n    'DIRECTORS': '常标'},\n   {'key': '22',\n    'MOVIE_ID': 6521915,\n    'NAME': '事出有姻',\n    'ALIAS': '罗马假日2：事出有姻',\n    'ACTORS': '玛丽亚·格拉齐亚·库奇诺塔/黄海波/王丽坤/李赞/赛尔乔·阿西西/瓦莱丽亚·玛里尼/安东尼奥·布鲁斯凯塔',\n    'COVER': nan,\n    'DIRECTORS': '达里奥·巴尔迪/杜军'},\n   {'key': '23',\n    'MOVIE_ID': 25857981,\n    'NAME': '擒凶记1894',\n    'ALIAS': nan,\n    'ACTORS': nan,\n    'COVER': nan,\n    'DIRECTORS': '陈德森'},\n   {'key': '24',\n    'MOVIE_ID': 26828028,\n    'NAME': '喜剧王',\n    'ALIAS': nan,\n    'ACTORS': \"崔笛/刘洋影子/卢沁希/张美娥 Mei'e Zhang/滕艺/王佳慧/周静雯/林美燕/马瑶瑶/姜再义/林子幸/杨赛星/穆萨/弘毅/李大齐/王天慧/阿祖/李婧\",\n    'COVER': nan,\n    'DIRECTORS': '盛建伟'},\n   {'key': '25',\n    'MOVIE_ID': 25728580,\n    'NAME': '黑暗中的笑声',\n    'ALIAS': nan,\n    'ACTORS': nan,\n    'COVER': nan,\n    'DIRECTORS': '比利·奥古斯特'},\n   {'key': '26',\n    'MOVIE_ID': 22963915,\n    'NAME': '牛兄牛弟',\n    'ALIAS': nan,\n    'ACTORS': '舒淇/佟大为/姜武/张国立/夏雨/吴大维/潘玮柏/刘德华',\n    'COVER': nan,\n    'DIRECTORS': '林浩然'},\n   {'key': '27',\n    'MOVIE_ID': 10766240,\n    'NAME': '疯狗和英国人',\n    'ALIAS': nan,\n    'ACTORS': '科林·费尔斯',\n    'COVER': nan,\n    'DIRECTORS': nan},\n   {'key': '28',\n    'MOVIE_ID': 34636095,\n    'NAME': '钢铁之心',\n    'ALIAS': nan,\n    'ACTORS': nan,\n    'COVER': nan,\n    'DIRECTORS': nan},\n   {'key': '29',\n    'MOVIE_ID': 26369807,\n    'NAME': '在北极说爱你',\n    'ALIAS': nan,\n    'ACTORS': '潘粤明',\n    'COVER': nan,\n    'DIRECTORS': '金然'},\n   {'key': '30',\n    'MOVIE_ID': 26333212,\n    'NAME': '年少轻狂时',\n    'ALIAS': nan,\n    'ACTORS': nan,\n    'COVER': nan,\n    'DIRECTORS': nan}]},\n 'edges': {'columns': [{'title': 'source', 'dataIndex': 'source'},\n   {'title': 'target', 'dataIndex': 'target'}],\n  'data': [{'key': '0', 'source': 26680414, 'target': 27042445},\n   {'key': '1', 'source': 22963915, 'target': 26333212},\n   {'key': '2', 'source': 26277337, 'target': 26754627},\n   {'key': '3', 'source': 26528269, 'target': 26680414},\n   {'key': '4', 'source': 26277337, 'target': 26378809},\n   {'key': '5', 'source': 27042445, 'target': 26333212},\n   {'key': '6', 'source': 26647075, 'target': 26386532},\n   {'key': '7', 'source': 26647075, 'target': 10766240},\n   {'key': '8', 'source': 26347315, 'target': 26386532},\n   {'key': '9', 'source': 26266621, 'target': 26333212},\n   {'key': '10', 'source': 26378809, 'target': 25728580},\n   {'key': '11', 'source': 26670818, 'target': 6389523},\n   {'key': '12', 'source': 26828028, 'target': 34636095},\n   {'key': '13', 'source': 27148159, 'target': 26386532},\n   {'key': '14', 'source': 26277337, 'target': 10766240},\n   {'key': '15', 'source': 26670818, 'target': 34636095},\n   {'key': '16', 'source': 26386532, 'target': 26371294},\n   {'key': '17', 'source': 26378809, 'target': 22963915},\n   {'key': '18', 'source': 26647079, 'target': 22963915},\n   {'key': '19', 'source': 27148159, 'target': 11516763},\n   {'key': '20', 'source': 26647079, 'target': 26268576},\n   {'key': '21', 'source': 25857981, 'target': 25728580}]}}"
     },
     "execution_count": 8,
     "metadata": {},
     "output_type": "execute_result"
    }
   ],
   "source": [
    "gg.get_data_table('电影关系图')"
   ],
   "metadata": {
    "collapsed": false,
    "pycharm": {
     "name": "#%%\n"
    }
   }
  },
  {
   "cell_type": "code",
   "execution_count": 9,
   "outputs": [
    {
     "data": {
      "text/plain": "{'directed': False,\n 'connected': False,\n 'nodeCount': 116,\n 'edgeCount': 115,\n 'degree': [2,\n  2,\n  2,\n  1,\n  1,\n  1,\n  5,\n  1,\n  2,\n  2,\n  2,\n  1,\n  3,\n  1,\n  2,\n  3,\n  2,\n  4,\n  3,\n  2,\n  2,\n  4,\n  1,\n  2,\n  2,\n  0,\n  5,\n  0,\n  3,\n  1,\n  2,\n  2,\n  1,\n  2,\n  2,\n  0,\n  2,\n  3,\n  3,\n  1,\n  2,\n  4,\n  3,\n  3,\n  2,\n  2,\n  1,\n  1,\n  2,\n  1,\n  2,\n  2,\n  8,\n  2,\n  4,\n  4,\n  0,\n  0,\n  2,\n  0,\n  3,\n  0,\n  2,\n  1,\n  3,\n  1,\n  0,\n  3,\n  2,\n  1,\n  0,\n  3,\n  0,\n  0,\n  0,\n  1,\n  2,\n  0,\n  5,\n  1,\n  0,\n  1,\n  3,\n  2,\n  1,\n  2,\n  0,\n  2,\n  1,\n  1,\n  2,\n  2,\n  3,\n  4,\n  4,\n  3,\n  2,\n  3,\n  2,\n  3,\n  2,\n  1,\n  4,\n  1,\n  4,\n  3,\n  2,\n  1,\n  3,\n  1,\n  2,\n  4,\n  3,\n  2,\n  0,\n  3],\n 'maxDegree': 8,\n 'averageDegree': 1.9828,\n 'diameter': 15,\n 'averagePathLen': 6.2183,\n 'globalClusteringCoefficient': 0.0818,\n 'density': 0.0172,\n 'betweenness': [88.0,\n  88.0,\n  0.0,\n  0.0,\n  0.0,\n  0.0,\n  345.0,\n  0.0,\n  72.75,\n  72.75,\n  0.0,\n  0.0,\n  260.0,\n  0.0,\n  2.0,\n  16.866667,\n  190.15,\n  959.733333,\n  137.8,\n  88.0,\n  0.0,\n  216.833333,\n  0.0,\n  174.0,\n  0.0,\n  0.0,\n  273.216667,\n  0.0,\n  600.166667,\n  0.0,\n  0.0,\n  2.0,\n  0.0,\n  11.166667,\n  252.35,\n  0.0,\n  0.0,\n  117.05,\n  244.183333,\n  0.0,\n  13.5,\n  706.15,\n  282.316667,\n  279.333333,\n  171.05,\n  1.0,\n  0.0,\n  0.0,\n  0.0,\n  0.0,\n  88.0,\n  88.0,\n  500.483333,\n  88.0,\n  439.7,\n  734.716667,\n  0.0,\n  0.0,\n  356.333333,\n  0.0,\n  260.0,\n  0.0,\n  514.316667,\n  0.0,\n  364.15,\n  0.0,\n  0.0,\n  90.766667,\n  95.5,\n  0.0,\n  0.0,\n  197.666667,\n  0.0,\n  0.0,\n  0.0,\n  0.0,\n  0.0,\n  0.0,\n  1154.566667,\n  0.0,\n  0.0,\n  0.0,\n  162.816667,\n  154.5,\n  0.0,\n  174.0,\n  0.0,\n  88.0,\n  0.0,\n  0.0,\n  258.0,\n  37.016667,\n  331.383333,\n  980.966667,\n  1014.483333,\n  375.416667,\n  264.666667,\n  811.0,\n  88.0,\n  728.433333,\n  219.833333,\n  0.0,\n  392.166667,\n  0.0,\n  526.2,\n  474.5,\n  125.616667,\n  0.0,\n  894.916667,\n  0.0,\n  597.5,\n  667.4,\n  677.816667,\n  88.0,\n  0.0,\n  191.8],\n 'closeness': [0.117105,\n  0.16094,\n  0.144481,\n  0.155867,\n  0.136086,\n  0.152137,\n  0.179074,\n  0.111669,\n  0.138629,\n  0.138629,\n  0.152397,\n  0.158645,\n  0.142857,\n  0.176238,\n  0.75,\n  0.163603,\n  0.188559,\n  0.213429,\n  0.181633,\n  0.141946,\n  1.0,\n  0.132047,\n  0.155867,\n  0.16451,\n  1.0,\n  -1,\n  0.180894,\n  -1,\n  0.183884,\n  0.152137,\n  0.166045,\n  0.75,\n  0.138846,\n  0.141946,\n  0.192641,\n  -1,\n  1.0,\n  0.158082,\n  0.188161,\n  0.5,\n  0.144246,\n  0.190578,\n  0.167293,\n  0.155052,\n  0.196035,\n  1.0,\n  0.666667,\n  0.140379,\n  0.153713,\n  0.125176,\n  0.144013,\n  0.136503,\n  0.184265,\n  0.163004,\n  0.16451,\n  0.194748,\n  -1,\n  -1,\n  0.190578,\n  -1,\n  0.157244,\n  -1,\n  0.1939,\n  0.5,\n  0.188559,\n  0.155867,\n  -1,\n  0.154783,\n  0.176587,\n  0.153448,\n  -1,\n  0.167608,\n  -1,\n  -1,\n  -1,\n  0.155867,\n  0.152397,\n  -1,\n  0.218673,\n  0.126062,\n  -1,\n  0.666667,\n  0.176587,\n  0.142857,\n  0.13244,\n  0.155323,\n  -1,\n  0.125529,\n  0.104953,\n  0.124476,\n  0.182004,\n  0.179074,\n  0.178715,\n  0.223058,\n  0.228205,\n  0.190171,\n  0.171815,\n  0.205543,\n  0.152397,\n  0.212919,\n  0.159498,\n  0.151877,\n  0.178715,\n  0.151877,\n  0.193478,\n  0.178,\n  0.1939,\n  0.12027,\n  0.212919,\n  0.119143,\n  0.213942,\n  0.20892,\n  0.207944,\n  0.135053,\n  -1,\n  0.194323],\n 'pageRank': [0.009634,\n  0.009249,\n  0.007958,\n  0.004709,\n  0.005431,\n  0.004914,\n  0.020287,\n  0.005822,\n  0.00825,\n  0.00825,\n  0.008546,\n  0.004816,\n  0.013549,\n  0.00467,\n  0.012678,\n  0.010695,\n  0.007579,\n  0.015085,\n  0.011316,\n  0.010175,\n  0.009766,\n  0.016207,\n  0.004709,\n  0.008917,\n  0.009766,\n  0.001465,\n  0.017676,\n  0.001465,\n  0.012263,\n  0.004914,\n  0.007915,\n  0.012678,\n  0.005396,\n  0.00813,\n  0.007427,\n  0.001465,\n  0.009766,\n  0.01143,\n  0.011828,\n  0.006853,\n  0.00811,\n  0.015048,\n  0.012005,\n  0.011793,\n  0.00763,\n  0.014253,\n  0.007522,\n  0.00541,\n  0.0075,\n  0.005304,\n  0.009568,\n  0.010451,\n  0.030535,\n  0.009283,\n  0.015146,\n  0.014717,\n  0.001465,\n  0.001465,\n  0.007857,\n  0.001465,\n  0.013997,\n  0.001465,\n  0.00778,\n  0.006853,\n  0.011072,\n  0.004709,\n  0.001465,\n  0.011487,\n  0.007957,\n  0.00447,\n  0.001465,\n  0.011257,\n  0.001465,\n  0.001465,\n  0.001465,\n  0.004709,\n  0.008546,\n  0.001465,\n  0.018099,\n  0.005531,\n  0.001465,\n  0.007522,\n  0.010721,\n  0.008553,\n  0.005482,\n  0.009687,\n  0.001465,\n  0.010253,\n  0.005559,\n  0.005789,\n  0.008659,\n  0.007736,\n  0.011746,\n  0.013917,\n  0.013926,\n  0.011552,\n  0.008368,\n  0.010854,\n  0.009453,\n  0.011028,\n  0.008574,\n  0.005053,\n  0.016884,\n  0.005053,\n  0.015151,\n  0.011702,\n  0.007723,\n  0.005907,\n  0.011251,\n  0.006007,\n  0.007612,\n  0.014237,\n  0.011002,\n  0.010688,\n  0.001465,\n  0.01106]}"
     },
     "execution_count": 9,
     "metadata": {},
     "output_type": "execute_result"
    }
   ],
   "source": [
    "gg.get_graph_info('')"
   ],
   "metadata": {
    "collapsed": false,
    "pycharm": {
     "name": "#%%\n"
    }
   }
  },
  {
   "cell_type": "code",
   "execution_count": 10,
   "outputs": [
    {
     "data": {
      "text/plain": "{'graph': <igraph.Graph at 0x128b9787b80>,\n 'node_data':     MOVIE_ID              NAME       ALIAS  \\\n 0   26670818              情定河州     情定临夏天使然   \n 1   25815002            我不是李小龙         NaN   \n 2   26392287           曼哈顿中国女孩         NaN   \n 3   26695995              绿毛水怪         NaN   \n 4   26392292              为了祖国         NaN   \n 5    6389523              天地无用         NaN   \n 6   26266621             看不见的脸       見えない貌   \n 7   26647079          你无法抵达的时间         NaN   \n 8   26277337              黑夜之神     包公：黑夜之神   \n 9   26378809               传送点         NaN   \n 10  26647075           王二大爷的战争         NaN   \n 11  27148159              致命复活         NaN   \n 12  26528269              行星绿谷         NaN   \n 13  26268576             Alpha         NaN   \n 14  26680414          我和僵尸有个约会         NaN   \n 15   3317352  It Is What It Is         NaN   \n 16  26347315     最寒冷的冬天是旧金山的夏季         NaN   \n 17  26386532               小情歌         NaN   \n 18  26371294               六重门         NaN   \n 19  26754627           山海经之小人国         NaN   \n 20  11516763              羊毛战记         NaN   \n 21  27042445                沙漠         NaN   \n 22   6521915              事出有姻  罗马假日2：事出有姻   \n 23  25857981           擒凶记1894         NaN   \n 24  26828028               喜剧王         NaN   \n 25  25728580            黑暗中的笑声         NaN   \n 26  22963915              牛兄牛弟         NaN   \n 27  10766240            疯狗和英国人         NaN   \n 28  34636095              钢铁之心         NaN   \n 29  26369807            在北极说爱你         NaN   \n 30  26333212             年少轻狂时         NaN   \n \n                                                ACTORS  COVER   DIRECTORS  \n 0         王博/吴佳尼/王姬/高丽雯/郭力行/尹哲/沈丹萍/罗中旭/臧金生/罗刚/居文沛/阎青妤    NaN          尹哲  \n 1                                     谷尚蔚/吴孟达/曾志伟/杜海涛    NaN         洪金宝  \n 2                                                 NaN    NaN         NaN  \n 3                                                 NaN    NaN      梁栋/吴国墉  \n 4                                                 NaN    NaN         NaN  \n 5                            禅婵/梁宸/张凡夕 François Chang    NaN         张凡夕  \n 6                                                 NaN    NaN         NaN  \n 7                                                 NaN    NaN         NaN  \n 8                                                 NaN    NaN         NaN  \n 9                                                 NaN    NaN         辛成江  \n 10                                                NaN    NaN         NaN  \n 11                                                NaN    NaN         NaN  \n 12                                                NaN    NaN         韦炜华  \n 13                                                NaN    NaN         NaN  \n 14                                                NaN    NaN         NaN  \n 15                           奥莉薇·瑟尔比/西格妮·韦弗/埃文·蕾切尔·伍德    NaN     苏珊娜·福格尔  \n 16                                                NaN    NaN         NaN  \n 17                                                NaN    NaN         NaN  \n 18                                                NaN    NaN         NaN  \n 19                                                NaN    NaN         NaN  \n 20                                                NaN    NaN         NaN  \n 21                     吴敏/菅浩栋/董昕傧/牛森浩/毛腾飞/崔树强/陈小玲/段亚丽    NaN          常标  \n 22  玛丽亚·格拉齐亚·库奇诺塔/黄海波/王丽坤/李赞/赛尔乔·阿西西/瓦莱丽亚·玛里尼/安东尼奥...    NaN  达里奥·巴尔迪/杜军  \n 23                                                NaN    NaN         陈德森  \n 24  崔笛/刘洋影子/卢沁希/张美娥 Mei'e Zhang/滕艺/王佳慧/周静雯/林美燕/马瑶瑶...    NaN         盛建伟  \n 25                                                NaN    NaN     比利·奥古斯特  \n 26                       舒淇/佟大为/姜武/张国立/夏雨/吴大维/潘玮柏/刘德华    NaN         林浩然  \n 27                                             科林·费尔斯    NaN         NaN  \n 28                                                NaN    NaN         NaN  \n 29                                                潘粤明    NaN          金然  \n 30                                                NaN    NaN         NaN  ,\n 'edge_data':       source    target\n 0   26680414  27042445\n 1   22963915  26333212\n 2   26277337  26754627\n 3   26528269  26680414\n 4   26277337  26378809\n 5   27042445  26333212\n 6   26647075  26386532\n 7   26647075  10766240\n 8   26347315  26386532\n 9   26266621  26333212\n 10  26378809  25728580\n 11  26670818   6389523\n 12  26828028  34636095\n 13  27148159  26386532\n 14  26277337  10766240\n 15  26670818  34636095\n 16  26386532  26371294\n 17  26378809  22963915\n 18  26647079  22963915\n 19  27148159  11516763\n 20  26647079  26268576\n 21  25857981  25728580}"
     },
     "execution_count": 10,
     "metadata": {},
     "output_type": "execute_result"
    }
   ],
   "source": [
    "gg.sub_graph['电影关系图']"
   ],
   "metadata": {
    "collapsed": false,
    "pycharm": {
     "name": "#%%\n"
    }
   }
  },
  {
   "cell_type": "code",
   "execution_count": 11,
   "outputs": [
    {
     "data": {
      "text/plain": "{'nodes': [{'id': '0',\n   'name': '0',\n   'value': '',\n   'symbol': 'circle',\n   'symbolSize': 36,\n   'itemStyle': {'color': '#f20c00'}},\n  {'id': '1',\n   'name': '1',\n   'value': '',\n   'symbol': 'circle',\n   'symbolSize': 36,\n   'itemStyle': {'color': '#827100'}},\n  {'id': '2',\n   'name': '2',\n   'value': '',\n   'symbol': 'circle',\n   'symbolSize': 36,\n   'itemStyle': {'color': '#d3b17d'}},\n  {'id': '3',\n   'name': '3',\n   'value': '',\n   'symbol': 'circle',\n   'symbolSize': 30,\n   'itemStyle': {'color': '#3d3b4f'}},\n  {'id': '4',\n   'name': '4',\n   'value': '',\n   'symbol': 'circle',\n   'symbolSize': 30,\n   'itemStyle': {'color': '#9b4400'}},\n  {'id': '5',\n   'name': '5',\n   'value': '',\n   'symbol': 'circle',\n   'symbolSize': 30,\n   'itemStyle': {'color': '#c0ebd7'}},\n  {'id': '6',\n   'name': '6',\n   'value': '',\n   'symbol': 'circle',\n   'symbolSize': 53,\n   'itemStyle': {'color': '#ffffff'}},\n  {'id': '7',\n   'name': '7',\n   'value': '',\n   'symbol': 'circle',\n   'symbolSize': 30,\n   'itemStyle': {'color': '#e0eee8'}},\n  {'id': '8',\n   'name': '8',\n   'value': '',\n   'symbol': 'circle',\n   'symbolSize': 36,\n   'itemStyle': {'color': '#6b6882'}},\n  {'id': '9',\n   'name': '9',\n   'value': '',\n   'symbol': 'circle',\n   'symbolSize': 36,\n   'itemStyle': {'color': '#3b2e7e'}},\n  {'id': '10',\n   'name': '10',\n   'value': '',\n   'symbol': 'circle',\n   'symbolSize': 36,\n   'itemStyle': {'color': '#f9906f'}},\n  {'id': '11',\n   'name': '11',\n   'value': '',\n   'symbol': 'circle',\n   'symbolSize': 30,\n   'itemStyle': {'color': '#827100'}},\n  {'id': '12',\n   'name': '12',\n   'value': '',\n   'symbol': 'circle',\n   'symbolSize': 41,\n   'itemStyle': {'color': '#9b4400'}},\n  {'id': '13',\n   'name': '13',\n   'value': '',\n   'symbol': 'circle',\n   'symbolSize': 30,\n   'itemStyle': {'color': '#9b4400'}},\n  {'id': '14',\n   'name': '14',\n   'value': '',\n   'symbol': 'circle',\n   'symbolSize': 36,\n   'itemStyle': {'color': '#9b4400'}},\n  {'id': '15',\n   'name': '15',\n   'value': '',\n   'symbol': 'circle',\n   'symbolSize': 41,\n   'itemStyle': {'color': '#3b2e7e'}},\n  {'id': '16',\n   'name': '16',\n   'value': '',\n   'symbol': 'circle',\n   'symbolSize': 36,\n   'itemStyle': {'color': '#ffc64b'}},\n  {'id': '17',\n   'name': '17',\n   'value': '',\n   'symbol': 'circle',\n   'symbolSize': 47,\n   'itemStyle': {'color': '#827100'}},\n  {'id': '18',\n   'name': '18',\n   'value': '',\n   'symbol': 'circle',\n   'symbolSize': 41,\n   'itemStyle': {'color': '#845a33'}},\n  {'id': '19',\n   'name': '19',\n   'value': '',\n   'symbol': 'circle',\n   'symbolSize': 36,\n   'itemStyle': {'color': '#ffa631'}},\n  {'id': '20',\n   'name': '20',\n   'value': '',\n   'symbol': 'circle',\n   'symbolSize': 36,\n   'itemStyle': {'color': '#3d3b4f'}},\n  {'id': '21',\n   'name': '21',\n   'value': '',\n   'symbol': 'circle',\n   'symbolSize': 47,\n   'itemStyle': {'color': '#eacd76'}},\n  {'id': '22',\n   'name': '22',\n   'value': '',\n   'symbol': 'circle',\n   'symbolSize': 30,\n   'itemStyle': {'color': '#00e500'}},\n  {'id': '23',\n   'name': '23',\n   'value': '',\n   'symbol': 'circle',\n   'symbolSize': 36,\n   'itemStyle': {'color': '#afdd22'}},\n  {'id': '24',\n   'name': '24',\n   'value': '',\n   'symbol': 'circle',\n   'symbolSize': 36,\n   'itemStyle': {'color': '#f20c00'}},\n  {'id': '25',\n   'name': '25',\n   'value': '',\n   'symbol': 'circle',\n   'symbolSize': 25,\n   'itemStyle': {'color': '#ffffff'}},\n  {'id': '26',\n   'name': '26',\n   'value': '',\n   'symbol': 'circle',\n   'symbolSize': 53,\n   'itemStyle': {'color': '#827100'}},\n  {'id': '27',\n   'name': '27',\n   'value': '',\n   'symbol': 'circle',\n   'symbolSize': 25,\n   'itemStyle': {'color': '#75878a'}},\n  {'id': '28',\n   'name': '28',\n   'value': '',\n   'symbol': 'circle',\n   'symbolSize': 41,\n   'itemStyle': {'color': '#ffa631'}},\n  {'id': '29',\n   'name': '29',\n   'value': '',\n   'symbol': 'circle',\n   'symbolSize': 30,\n   'itemStyle': {'color': '#afdd22'}},\n  {'id': '30',\n   'name': '30',\n   'value': '',\n   'symbol': 'circle',\n   'symbolSize': 36,\n   'itemStyle': {'color': '#827100'}},\n  {'id': '31',\n   'name': '31',\n   'value': '',\n   'symbol': 'circle',\n   'symbolSize': 36,\n   'itemStyle': {'color': '#9b4400'}},\n  {'id': '32',\n   'name': '32',\n   'value': '',\n   'symbol': 'circle',\n   'symbolSize': 30,\n   'itemStyle': {'color': '#f20c00'}},\n  {'id': '33',\n   'name': '33',\n   'value': '',\n   'symbol': 'circle',\n   'symbolSize': 36,\n   'itemStyle': {'color': '#827100'}},\n  {'id': '34',\n   'name': '34',\n   'value': '',\n   'symbol': 'circle',\n   'symbolSize': 36,\n   'itemStyle': {'color': '#6b6882'}},\n  {'id': '35',\n   'name': '35',\n   'value': '',\n   'symbol': 'circle',\n   'symbolSize': 25,\n   'itemStyle': {'color': '#00e079'}},\n  {'id': '36',\n   'name': '36',\n   'value': '',\n   'symbol': 'circle',\n   'symbolSize': 36,\n   'itemStyle': {'color': '#00e079'}},\n  {'id': '37',\n   'name': '37',\n   'value': '',\n   'symbol': 'circle',\n   'symbolSize': 41,\n   'itemStyle': {'color': '#75878a'}},\n  {'id': '38',\n   'name': '38',\n   'value': '',\n   'symbol': 'circle',\n   'symbolSize': 41,\n   'itemStyle': {'color': '#6b6882'}},\n  {'id': '39',\n   'name': '39',\n   'value': '',\n   'symbol': 'circle',\n   'symbolSize': 30,\n   'itemStyle': {'color': '#3b2e7e'}},\n  {'id': '40',\n   'name': '40',\n   'value': '',\n   'symbol': 'circle',\n   'symbolSize': 36,\n   'itemStyle': {'color': '#3d3b4f'}},\n  {'id': '41',\n   'name': '41',\n   'value': '',\n   'symbol': 'circle',\n   'symbolSize': 47,\n   'itemStyle': {'color': '#c0ebd7'}},\n  {'id': '42',\n   'name': '42',\n   'value': '',\n   'symbol': 'circle',\n   'symbolSize': 41,\n   'itemStyle': {'color': '#00e079'}},\n  {'id': '43',\n   'name': '43',\n   'value': '',\n   'symbol': 'circle',\n   'symbolSize': 41,\n   'itemStyle': {'color': '#f9906f'}},\n  {'id': '44',\n   'name': '44',\n   'value': '',\n   'symbol': 'circle',\n   'symbolSize': 36,\n   'itemStyle': {'color': '#3b2e7e'}},\n  {'id': '45',\n   'name': '45',\n   'value': '',\n   'symbol': 'circle',\n   'symbolSize': 36,\n   'itemStyle': {'color': '#ffffff'}},\n  {'id': '46',\n   'name': '46',\n   'value': '',\n   'symbol': 'circle',\n   'symbolSize': 30,\n   'itemStyle': {'color': '#75878a'}},\n  {'id': '47',\n   'name': '47',\n   'value': '',\n   'symbol': 'circle',\n   'symbolSize': 30,\n   'itemStyle': {'color': '#00e079'}},\n  {'id': '48',\n   'name': '48',\n   'value': '',\n   'symbol': 'circle',\n   'symbolSize': 36,\n   'itemStyle': {'color': '#ffc64b'}},\n  {'id': '49',\n   'name': '49',\n   'value': '',\n   'symbol': 'circle',\n   'symbolSize': 30,\n   'itemStyle': {'color': '#ffffff'}},\n  {'id': '50',\n   'name': '50',\n   'value': '',\n   'symbol': 'circle',\n   'symbolSize': 36,\n   'itemStyle': {'color': '#845a33'}},\n  {'id': '51',\n   'name': '51',\n   'value': '',\n   'symbol': 'circle',\n   'symbolSize': 36,\n   'itemStyle': {'color': '#ffc64b'}},\n  {'id': '52',\n   'name': '52',\n   'value': '',\n   'symbol': 'circle',\n   'symbolSize': 70,\n   'itemStyle': {'color': '#827100'}},\n  {'id': '53',\n   'name': '53',\n   'value': '',\n   'symbol': 'circle',\n   'symbolSize': 36,\n   'itemStyle': {'color': '#41555d'}},\n  {'id': '54',\n   'name': '54',\n   'value': '',\n   'symbol': 'circle',\n   'symbolSize': 47,\n   'itemStyle': {'color': '#f9906f'}},\n  {'id': '55',\n   'name': '55',\n   'value': '',\n   'symbol': 'circle',\n   'symbolSize': 47,\n   'itemStyle': {'color': '#e0eee8'}},\n  {'id': '56',\n   'name': '56',\n   'value': '',\n   'symbol': 'circle',\n   'symbolSize': 25,\n   'itemStyle': {'color': '#ffc64b'}},\n  {'id': '57',\n   'name': '57',\n   'value': '',\n   'symbol': 'circle',\n   'symbolSize': 25,\n   'itemStyle': {'color': '#c0ebd7'}},\n  {'id': '58',\n   'name': '58',\n   'value': '',\n   'symbol': 'circle',\n   'symbolSize': 36,\n   'itemStyle': {'color': '#00e079'}},\n  {'id': '59',\n   'name': '59',\n   'value': '',\n   'symbol': 'circle',\n   'symbolSize': 25,\n   'itemStyle': {'color': '#9b4400'}},\n  {'id': '60',\n   'name': '60',\n   'value': '',\n   'symbol': 'circle',\n   'symbolSize': 41,\n   'itemStyle': {'color': '#00e079'}},\n  {'id': '61',\n   'name': '61',\n   'value': '',\n   'symbol': 'circle',\n   'symbolSize': 25,\n   'itemStyle': {'color': '#845a33'}},\n  {'id': '62',\n   'name': '62',\n   'value': '',\n   'symbol': 'circle',\n   'symbolSize': 36,\n   'itemStyle': {'color': '#afdd22'}},\n  {'id': '63',\n   'name': '63',\n   'value': '',\n   'symbol': 'circle',\n   'symbolSize': 30,\n   'itemStyle': {'color': '#3d3b4f'}},\n  {'id': '64',\n   'name': '64',\n   'value': '',\n   'symbol': 'circle',\n   'symbolSize': 41,\n   'itemStyle': {'color': '#41555d'}},\n  {'id': '65',\n   'name': '65',\n   'value': '',\n   'symbol': 'circle',\n   'symbolSize': 30,\n   'itemStyle': {'color': '#f20c00'}},\n  {'id': '66',\n   'name': '66',\n   'value': '',\n   'symbol': 'circle',\n   'symbolSize': 25,\n   'itemStyle': {'color': '#00e079'}},\n  {'id': '67',\n   'name': '67',\n   'value': '',\n   'symbol': 'circle',\n   'symbolSize': 41,\n   'itemStyle': {'color': '#afdd22'}},\n  {'id': '68',\n   'name': '68',\n   'value': '',\n   'symbol': 'circle',\n   'symbolSize': 36,\n   'itemStyle': {'color': '#ffffff'}},\n  {'id': '69',\n   'name': '69',\n   'value': '',\n   'symbol': 'circle',\n   'symbolSize': 30,\n   'itemStyle': {'color': '#eacd76'}},\n  {'id': '70',\n   'name': '70',\n   'value': '',\n   'symbol': 'circle',\n   'symbolSize': 25,\n   'itemStyle': {'color': '#00e079'}},\n  {'id': '71',\n   'name': '71',\n   'value': '',\n   'symbol': 'circle',\n   'symbolSize': 41,\n   'itemStyle': {'color': '#75878a'}},\n  {'id': '72',\n   'name': '72',\n   'value': '',\n   'symbol': 'circle',\n   'symbolSize': 25,\n   'itemStyle': {'color': '#00e079'}},\n  {'id': '73',\n   'name': '73',\n   'value': '',\n   'symbol': 'circle',\n   'symbolSize': 25,\n   'itemStyle': {'color': '#ffffff'}},\n  {'id': '74',\n   'name': '74',\n   'value': '',\n   'symbol': 'circle',\n   'symbolSize': 25,\n   'itemStyle': {'color': '#f20c00'}},\n  {'id': '75',\n   'name': '75',\n   'value': '',\n   'symbol': 'circle',\n   'symbolSize': 30,\n   'itemStyle': {'color': '#f20c00'}},\n  {'id': '76',\n   'name': '76',\n   'value': '',\n   'symbol': 'circle',\n   'symbolSize': 36,\n   'itemStyle': {'color': '#00e500'}},\n  {'id': '77',\n   'name': '77',\n   'value': '',\n   'symbol': 'circle',\n   'symbolSize': 25,\n   'itemStyle': {'color': '#827100'}},\n  {'id': '78',\n   'name': '78',\n   'value': '',\n   'symbol': 'circle',\n   'symbolSize': 53,\n   'itemStyle': {'color': '#ffc64b'}},\n  {'id': '79',\n   'name': '79',\n   'value': '',\n   'symbol': 'circle',\n   'symbolSize': 30,\n   'itemStyle': {'color': '#3b2e7e'}},\n  {'id': '80',\n   'name': '80',\n   'value': '',\n   'symbol': 'circle',\n   'symbolSize': 25,\n   'itemStyle': {'color': '#41555d'}},\n  {'id': '81',\n   'name': '81',\n   'value': '',\n   'symbol': 'circle',\n   'symbolSize': 30,\n   'itemStyle': {'color': '#9b4400'}},\n  {'id': '82',\n   'name': '82',\n   'value': '',\n   'symbol': 'circle',\n   'symbolSize': 41,\n   'itemStyle': {'color': '#ffc64b'}},\n  {'id': '83',\n   'name': '83',\n   'value': '',\n   'symbol': 'circle',\n   'symbolSize': 36,\n   'itemStyle': {'color': '#75878a'}},\n  {'id': '84',\n   'name': '84',\n   'value': '',\n   'symbol': 'circle',\n   'symbolSize': 30,\n   'itemStyle': {'color': '#eacd76'}}],\n 'edges': [{'source': '1', 'target': '32'},\n  {'source': '2', 'target': '37'},\n  {'source': '2', 'target': '67'},\n  {'source': '3', 'target': '52'},\n  {'source': '4', 'target': '60'},\n  {'source': '5', 'target': '6'},\n  {'source': '6', 'target': '10'},\n  {'source': '6', 'target': '17'},\n  {'source': '6', 'target': '29'},\n  {'source': '6', 'target': '76'},\n  {'source': '10', 'target': '76'},\n  {'source': '12', 'target': '49'},\n  {'source': '12', 'target': '54'},\n  {'source': '14', 'target': '31'},\n  {'source': '14', 'target': '63'},\n  {'source': '15', 'target': '48'},\n  {'source': '15', 'target': '82'},\n  {'source': '16', 'target': '78'},\n  {'source': '16', 'target': '82'},\n  {'source': '13', 'target': '17'},\n  {'source': '17', 'target': '78'},\n  {'source': '18', 'target': '44'},\n  {'source': '20', 'target': '24'},\n  {'source': '20', 'target': '36'},\n  {'source': '0', 'target': '21'},\n  {'source': '8', 'target': '21'},\n  {'source': '9', 'target': '21'},\n  {'source': '21', 'target': '83'},\n  {'source': '19', 'target': '23'},\n  {'source': '15', 'target': '26'},\n  {'source': '26', 'target': '48'},\n  {'source': '26', 'target': '69'},\n  {'source': '26', 'target': '82'},\n  {'source': '18', 'target': '30'},\n  {'source': '33', 'target': '40'},\n  {'source': '33', 'target': '54'},\n  {'source': '26', 'target': '34'},\n  {'source': '24', 'target': '36'},\n  {'source': '37', 'target': '67'},\n  {'source': '11', 'target': '38'},\n  {'source': '38', 'target': '52'},\n  {'source': '31', 'target': '39'},\n  {'source': '40', 'target': '71'},\n  {'source': '1', 'target': '41'},\n  {'source': '41', 'target': '54'},\n  {'source': '41', 'target': '55'},\n  {'source': '41', 'target': '62'},\n  {'source': '42', 'target': '50'},\n  {'source': '42', 'target': '67'},\n  {'source': '8', 'target': '43'},\n  {'source': '9', 'target': '43'},\n  {'source': '45', 'target': '46'},\n  {'source': '45', 'target': '81'},\n  {'source': '47', 'target': '53'},\n  {'source': '50', 'target': '79'},\n  {'source': '18', 'target': '52'},\n  {'source': '22', 'target': '52'},\n  {'source': '30', 'target': '52'},\n  {'source': '52', 'target': '64'},\n  {'source': '52', 'target': '65'},\n  {'source': '52', 'target': '75'},\n  {'source': '54', 'target': '71'},\n  {'source': '23', 'target': '55'},\n  {'source': '55', 'target': '71'},\n  {'source': '58', 'target': '78'},\n  {'source': '28', 'target': '60'},\n  {'source': '51', 'target': '60'}],\n 'directed': 0}"
     },
     "execution_count": 11,
     "metadata": {},
     "output_type": "execute_result"
    }
   ],
   "source": [
    "gg.render_network(**{\n",
    "    \"name\": \"人物关系图\",\n",
    "    \"vertex_size\": \"_度_\",\n",
    "    \"vertex_color\": \"_随机_\",\n",
    "    \"vertex_label\": \"_默认_\",\n",
    "    \"vertex_shape\": \"circle\"\n",
    "})"
   ],
   "metadata": {
    "collapsed": false,
    "pycharm": {
     "name": "#%%\n"
    }
   }
  },
  {
   "cell_type": "code",
   "execution_count": 17,
   "outputs": [
    {
     "data": {
      "text/plain": "['人物关系图', '电影关系图']"
     },
     "execution_count": 17,
     "metadata": {},
     "output_type": "execute_result"
    }
   ],
   "source": [
    "list(gg.sub_graph.keys())"
   ],
   "metadata": {
    "collapsed": false,
    "pycharm": {
     "name": "#%%\n"
    }
   }
  },
  {
   "cell_type": "code",
   "execution_count": 14,
   "outputs": [],
   "source": [
    "data:pd.DataFrame = pd.read_excel(r'C:\\Users\\x2845\\Desktop\\地铁点.xlsx')"
   ],
   "metadata": {
    "collapsed": false,
    "pycharm": {
     "name": "#%%\n"
    }
   }
  },
  {
   "cell_type": "code",
   "execution_count": 20,
   "outputs": [
    {
     "data": {
      "text/plain": "    amap_pois station_name amap_station_name         amap_position  \\\n0  BV10606461          青岛站          青岛站(地铁站)  120.314543,36.064199   \n1  BV10606457         人民会堂         人民会堂(地铁站)  120.329875,36.060331   \n2  BV10832405         汇泉广场         汇泉广场(地铁站)  120.343300,36.059678   \n3  BV10832403         中山公园         中山公园(地铁站)  120.351805,36.058342   \n4  BV10832402        太平角公园        太平角公园(地铁站)  120.359654,36.053773   \n\n    amap_lines  adcode adname  \n0      1号线;3号线  370202    市南区  \n1  (在建)4号线;3号线  370202    市南区  \n2          3号线  370202    市南区  \n3          3号线  370202    市南区  \n4          3号线  370202    市南区  ",
      "text/html": "<div>\n<style scoped>\n    .dataframe tbody tr th:only-of-type {\n        vertical-align: middle;\n    }\n\n    .dataframe tbody tr th {\n        vertical-align: top;\n    }\n\n    .dataframe thead th {\n        text-align: right;\n    }\n</style>\n<table border=\"1\" class=\"dataframe\">\n  <thead>\n    <tr style=\"text-align: right;\">\n      <th></th>\n      <th>amap_pois</th>\n      <th>station_name</th>\n      <th>amap_station_name</th>\n      <th>amap_position</th>\n      <th>amap_lines</th>\n      <th>adcode</th>\n      <th>adname</th>\n    </tr>\n  </thead>\n  <tbody>\n    <tr>\n      <th>0</th>\n      <td>BV10606461</td>\n      <td>青岛站</td>\n      <td>青岛站(地铁站)</td>\n      <td>120.314543,36.064199</td>\n      <td>1号线;3号线</td>\n      <td>370202</td>\n      <td>市南区</td>\n    </tr>\n    <tr>\n      <th>1</th>\n      <td>BV10606457</td>\n      <td>人民会堂</td>\n      <td>人民会堂(地铁站)</td>\n      <td>120.329875,36.060331</td>\n      <td>(在建)4号线;3号线</td>\n      <td>370202</td>\n      <td>市南区</td>\n    </tr>\n    <tr>\n      <th>2</th>\n      <td>BV10832405</td>\n      <td>汇泉广场</td>\n      <td>汇泉广场(地铁站)</td>\n      <td>120.343300,36.059678</td>\n      <td>3号线</td>\n      <td>370202</td>\n      <td>市南区</td>\n    </tr>\n    <tr>\n      <th>3</th>\n      <td>BV10832403</td>\n      <td>中山公园</td>\n      <td>中山公园(地铁站)</td>\n      <td>120.351805,36.058342</td>\n      <td>3号线</td>\n      <td>370202</td>\n      <td>市南区</td>\n    </tr>\n    <tr>\n      <th>4</th>\n      <td>BV10832402</td>\n      <td>太平角公园</td>\n      <td>太平角公园(地铁站)</td>\n      <td>120.359654,36.053773</td>\n      <td>3号线</td>\n      <td>370202</td>\n      <td>市南区</td>\n    </tr>\n  </tbody>\n</table>\n</div>"
     },
     "execution_count": 20,
     "metadata": {},
     "output_type": "execute_result"
    }
   ],
   "source": [
    "data.head()"
   ],
   "metadata": {
    "collapsed": false,
    "pycharm": {
     "name": "#%%\n"
    }
   }
  },
  {
   "cell_type": "code",
   "execution_count": 34,
   "outputs": [],
   "source": [
    "data['x'] = data['amap_position'].apply(lambda x: float(str(x).split(',')[0]))\n",
    "data['y']= data['amap_position'].apply(lambda x: float(str(x).split(',')[1]))"
   ],
   "metadata": {
    "collapsed": false,
    "pycharm": {
     "name": "#%%\n"
    }
   }
  },
  {
   "cell_type": "code",
   "execution_count": 35,
   "outputs": [
    {
     "data": {
      "text/plain": "    amap_pois station_name amap_station_name         amap_position  \\\n0  BV10606461          青岛站          青岛站(地铁站)  120.314543,36.064199   \n1  BV10606457         人民会堂         人民会堂(地铁站)  120.329875,36.060331   \n2  BV10832405         汇泉广场         汇泉广场(地铁站)  120.343300,36.059678   \n3  BV10832403         中山公园         中山公园(地铁站)  120.351805,36.058342   \n4  BV10832402        太平角公园        太平角公园(地铁站)  120.359654,36.053773   \n\n    amap_lines  adcode adname           x          y  \n0      1号线;3号线  370202    市南区  120.314543  36.064199  \n1  (在建)4号线;3号线  370202    市南区  120.329875  36.060331  \n2          3号线  370202    市南区  120.343300  36.059678  \n3          3号线  370202    市南区  120.351805  36.058342  \n4          3号线  370202    市南区  120.359654  36.053773  ",
      "text/html": "<div>\n<style scoped>\n    .dataframe tbody tr th:only-of-type {\n        vertical-align: middle;\n    }\n\n    .dataframe tbody tr th {\n        vertical-align: top;\n    }\n\n    .dataframe thead th {\n        text-align: right;\n    }\n</style>\n<table border=\"1\" class=\"dataframe\">\n  <thead>\n    <tr style=\"text-align: right;\">\n      <th></th>\n      <th>amap_pois</th>\n      <th>station_name</th>\n      <th>amap_station_name</th>\n      <th>amap_position</th>\n      <th>amap_lines</th>\n      <th>adcode</th>\n      <th>adname</th>\n      <th>x</th>\n      <th>y</th>\n    </tr>\n  </thead>\n  <tbody>\n    <tr>\n      <th>0</th>\n      <td>BV10606461</td>\n      <td>青岛站</td>\n      <td>青岛站(地铁站)</td>\n      <td>120.314543,36.064199</td>\n      <td>1号线;3号线</td>\n      <td>370202</td>\n      <td>市南区</td>\n      <td>120.314543</td>\n      <td>36.064199</td>\n    </tr>\n    <tr>\n      <th>1</th>\n      <td>BV10606457</td>\n      <td>人民会堂</td>\n      <td>人民会堂(地铁站)</td>\n      <td>120.329875,36.060331</td>\n      <td>(在建)4号线;3号线</td>\n      <td>370202</td>\n      <td>市南区</td>\n      <td>120.329875</td>\n      <td>36.060331</td>\n    </tr>\n    <tr>\n      <th>2</th>\n      <td>BV10832405</td>\n      <td>汇泉广场</td>\n      <td>汇泉广场(地铁站)</td>\n      <td>120.343300,36.059678</td>\n      <td>3号线</td>\n      <td>370202</td>\n      <td>市南区</td>\n      <td>120.343300</td>\n      <td>36.059678</td>\n    </tr>\n    <tr>\n      <th>3</th>\n      <td>BV10832403</td>\n      <td>中山公园</td>\n      <td>中山公园(地铁站)</td>\n      <td>120.351805,36.058342</td>\n      <td>3号线</td>\n      <td>370202</td>\n      <td>市南区</td>\n      <td>120.351805</td>\n      <td>36.058342</td>\n    </tr>\n    <tr>\n      <th>4</th>\n      <td>BV10832402</td>\n      <td>太平角公园</td>\n      <td>太平角公园(地铁站)</td>\n      <td>120.359654,36.053773</td>\n      <td>3号线</td>\n      <td>370202</td>\n      <td>市南区</td>\n      <td>120.359654</td>\n      <td>36.053773</td>\n    </tr>\n  </tbody>\n</table>\n</div>"
     },
     "execution_count": 35,
     "metadata": {},
     "output_type": "execute_result"
    }
   ],
   "source": [
    "data.head()"
   ],
   "metadata": {
    "collapsed": false,
    "pycharm": {
     "name": "#%%\n"
    }
   }
  },
  {
   "cell_type": "code",
   "execution_count": 37,
   "outputs": [],
   "source": [
    "data.to_excel(r\"C:\\Users\\x2845\\Desktop\\地铁点xy.xlsx\",index=False)"
   ],
   "metadata": {
    "collapsed": false,
    "pycharm": {
     "name": "#%%\n"
    }
   }
  },
  {
   "cell_type": "code",
   "execution_count": null,
   "outputs": [],
   "source": [],
   "metadata": {
    "collapsed": false,
    "pycharm": {
     "name": "#%%\n"
    }
   }
  }
 ],
 "metadata": {
  "kernelspec": {
   "display_name": "Python 3",
   "language": "python",
   "name": "python3"
  },
  "language_info": {
   "codemirror_mode": {
    "name": "ipython",
    "version": 2
   },
   "file_extension": ".py",
   "mimetype": "text/x-python",
   "name": "python",
   "nbconvert_exporter": "python",
   "pygments_lexer": "ipython2",
   "version": "2.7.6"
  }
 },
 "nbformat": 4,
 "nbformat_minor": 0
}